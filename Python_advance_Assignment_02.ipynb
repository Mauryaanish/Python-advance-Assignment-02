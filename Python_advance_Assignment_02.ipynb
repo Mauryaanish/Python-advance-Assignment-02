{
  "nbformat": 4,
  "nbformat_minor": 0,
  "metadata": {
    "colab": {
      "provenance": []
    },
    "kernelspec": {
      "name": "python3",
      "display_name": "Python 3"
    },
    "language_info": {
      "name": "python"
    }
  },
  "cells": [
    {
      "cell_type": "code",
      "execution_count": null,
      "metadata": {
        "id": "29UlJhQEaJLn"
      },
      "outputs": [],
      "source": []
    },
    {
      "cell_type": "markdown",
      "source": [
        "## Q1. What is the relationship between classes and modules?\n",
        "\n",
        "Answer:- Classes may generate instances (objects), and have per-instance state (instance variables). Modules may be mixed in to classes and other modules. The mixed in module's constants and methods blend into that class's own, augmenting the class's functionality. Classes, however, cannot be mixed in to anything."
      ],
      "metadata": {
        "id": "_tk8Wkk-gCFm"
      }
    },
    {
      "cell_type": "code",
      "source": [],
      "metadata": {
        "id": "7jt08GhtgOQb"
      },
      "execution_count": null,
      "outputs": []
    },
    {
      "cell_type": "markdown",
      "source": [
        "## Q2. How do you make instances and classes?\n",
        "\n",
        "Answer:- To create instances of a class, you call the class using class name and pass in whatever arguments its __init__ method accepts."
      ],
      "metadata": {
        "id": "EuOvxjMbgOu6"
      }
    },
    {
      "cell_type": "code",
      "source": [],
      "metadata": {
        "id": "5rK4mNSJgVmv"
      },
      "execution_count": null,
      "outputs": []
    },
    {
      "cell_type": "markdown",
      "source": [
        "## Q3. Where and how should be class attributes created?\n",
        "\n",
        "Answer:- To define a class attribute, you place it outside of the __init__() method. Use class_name. class_attribute or object_name. class_attribute to access the value of the class_attribute ."
      ],
      "metadata": {
        "id": "wfOdx_PTgWme"
      }
    },
    {
      "cell_type": "code",
      "source": [],
      "metadata": {
        "id": "k47KmqQ6ghTe"
      },
      "execution_count": null,
      "outputs": []
    },
    {
      "cell_type": "markdown",
      "source": [
        "## Q4. Where and how are instance attributes created?\n",
        "\n",
        "Answer:- Instance attributes are defined in the constructor. Defined directly inside a class. Defined inside a constructor using the self parameter."
      ],
      "metadata": {
        "id": "7i2nUGvAgiMc"
      }
    },
    {
      "cell_type": "code",
      "source": [],
      "metadata": {
        "id": "TMjyMy4RgrpW"
      },
      "execution_count": null,
      "outputs": []
    },
    {
      "cell_type": "markdown",
      "source": [
        "## Q5. What does the term &quot;self&quot; in a Python class mean?\n",
        "\n",
        "Answer:- The self parameter is a reference to the current instance of the class, and is used to access variables that belongs to the class."
      ],
      "metadata": {
        "id": "hZyA95lfgs4L"
      }
    },
    {
      "cell_type": "code",
      "source": [],
      "metadata": {
        "id": "12IiX0Usg41_"
      },
      "execution_count": null,
      "outputs": []
    },
    {
      "cell_type": "markdown",
      "source": [
        "## Q6. How does a Python class handle operator overloading?\n",
        "\n",
        "Answer:- The operator overloading in Python means provide extended meaning beyond their predefined operational meaning. Such as, we use the \"+\" operator for adding two integers as well as joining two strings or merging two lists. We can achieve this as the \"+\" operator is overloaded by the \"int\" class and \"str\" class"
      ],
      "metadata": {
        "id": "TjFj7wAsg5tP"
      }
    },
    {
      "cell_type": "code",
      "source": [],
      "metadata": {
        "id": "Vay7it-Pg_p7"
      },
      "execution_count": null,
      "outputs": []
    },
    {
      "cell_type": "markdown",
      "source": [
        "## Q7. When do you consider allowing operator overloading of your classes?\n",
        "\n",
        "Answer:- Ensures that objects of a class behave consistently with built-in types and other user-defined types. Makes it simpler to write code, especially for complex data types. Allows for code reuse by implementing one operator method and using it for other operators"
      ],
      "metadata": {
        "id": "p0FiKnDMhAjX"
      }
    },
    {
      "cell_type": "code",
      "source": [],
      "metadata": {
        "id": "x7SQScm9hIFe"
      },
      "execution_count": null,
      "outputs": []
    },
    {
      "cell_type": "markdown",
      "source": [
        "## Q8. What is the most popular form of operator overloading?\n",
        "\n",
        "Answer:- A very popular and convenient example is the Addition (+) operator. Just think how the '+' operator operates on two numbers and the same operator operates on two strings. It performs “Addition” on numbers whereas it performs “Concatenation” on strings."
      ],
      "metadata": {
        "id": "Ni70lBeYhIrN"
      }
    },
    {
      "cell_type": "code",
      "source": [],
      "metadata": {
        "id": "Wti6kMZlhPQu"
      },
      "execution_count": null,
      "outputs": []
    },
    {
      "cell_type": "markdown",
      "source": [
        "## Q9. What are the two most important concepts to grasp in order to comprehend Python OOP code?\n",
        "\n",
        "Answer:- Both inheritance and polymorphism are fundamental concepts of object oriented programming. These concepts help us to create code that can be extended and easily maintainable."
      ],
      "metadata": {
        "id": "r8iGPH9ihP2v"
      }
    },
    {
      "cell_type": "code",
      "source": [],
      "metadata": {
        "id": "UtG2YPLrhXpQ"
      },
      "execution_count": null,
      "outputs": []
    }
  ]
}